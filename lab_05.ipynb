{
  "nbformat": 4,
  "nbformat_minor": 0,
  "metadata": {
    "colab": {
      "provenance": [],
      "authorship_tag": "ABX9TyNK9894P95ZwJXq1UBBBxbo",
      "include_colab_link": true
    },
    "kernelspec": {
      "name": "python3",
      "display_name": "Python 3"
    },
    "language_info": {
      "name": "python"
    }
  },
  "cells": [
    {
      "cell_type": "markdown",
      "metadata": {
        "id": "view-in-github",
        "colab_type": "text"
      },
      "source": [
        "<a href=\"https://colab.research.google.com/github/2303A51859/ADM/blob/main/lab_05.ipynb\" target=\"_parent\"><img src=\"https://colab.research.google.com/assets/colab-badge.svg\" alt=\"Open In Colab\"/></a>"
      ]
    },
    {
      "cell_type": "code",
      "execution_count": 1,
      "metadata": {
        "id": "ZbSfGvG9rmRT"
      },
      "outputs": [],
      "source": [
        "import warnings\n",
        "warnings.filterwarnings('ignore', category=DeprecationWarning)"
      ]
    },
    {
      "cell_type": "code",
      "source": [
        "import pandas as pd\n",
        "from mlxtend.frequent_patterns import apriori, association_rules\n",
        "from mlxtend.preprocessing import TransactionEncoder\n"
      ],
      "metadata": {
        "id": "b-MBMz1Przp5"
      },
      "execution_count": 2,
      "outputs": []
    },
    {
      "cell_type": "code",
      "source": [
        "# Load dataset\n",
        "df = pd.read_csv(\"/content/Groceries_dataset.csv\")\n"
      ],
      "metadata": {
        "colab": {
          "base_uri": "https://localhost:8080/"
        },
        "id": "nMhRK2GPr1-X",
        "outputId": "8a200ddc-4bfc-431c-eba2-ee4bdf8a0758"
      },
      "execution_count": 3,
      "outputs": [
        {
          "output_type": "stream",
          "name": "stderr",
          "text": [
            "/usr/local/lib/python3.11/dist-packages/ipykernel/ipkernel.py:283: DeprecationWarning: `should_run_async` will not call `transform_cell` automatically in the future. Please pass the result to `transformed_cell` argument and any exception that happen during thetransform in `preprocessing_exc_tuple` in IPython 7.17 and above.\n",
            "  and should_run_async(code)\n"
          ]
        }
      ]
    },
    {
      "cell_type": "code",
      "source": [
        "# Prepare transactions\n",
        "txns = df.groupby(['Member_number'])['itemDescription'].apply(list).tolist()\n"
      ],
      "metadata": {
        "colab": {
          "base_uri": "https://localhost:8080/"
        },
        "id": "N2PbaKWor1cz",
        "outputId": "ec0e2438-a593-46a0-fc3e-2992b8073c13"
      },
      "execution_count": 4,
      "outputs": [
        {
          "output_type": "stream",
          "name": "stderr",
          "text": [
            "/usr/local/lib/python3.11/dist-packages/ipykernel/ipkernel.py:283: DeprecationWarning: `should_run_async` will not call `transform_cell` automatically in the future. Please pass the result to `transformed_cell` argument and any exception that happen during thetransform in `preprocessing_exc_tuple` in IPython 7.17 and above.\n",
            "  and should_run_async(code)\n"
          ]
        }
      ]
    },
    {
      "cell_type": "code",
      "source": [
        "# Convert transactions into binary format\n",
        "te = TransactionEncoder()\n",
        "te_ary = te.fit(txns).transform(txns)\n",
        "df_encoded = pd.DataFrame(te_ary, columns=te.columns_)\n",
        "\n"
      ],
      "metadata": {
        "colab": {
          "base_uri": "https://localhost:8080/"
        },
        "id": "CD6NS3Rxr36W",
        "outputId": "6d85ce6c-c53f-4425-8449-858f7859a0a2"
      },
      "execution_count": 5,
      "outputs": [
        {
          "output_type": "stream",
          "name": "stderr",
          "text": [
            "/usr/local/lib/python3.11/dist-packages/ipykernel/ipkernel.py:283: DeprecationWarning: `should_run_async` will not call `transform_cell` automatically in the future. Please pass the result to `transformed_cell` argument and any exception that happen during thetransform in `preprocessing_exc_tuple` in IPython 7.17 and above.\n",
            "  and should_run_async(code)\n"
          ]
        }
      ]
    },
    {
      "cell_type": "code",
      "source": [
        "# Apply Apriori algorithm\n",
        "min_support = 0.01  # Adjust as needed\n",
        "frequent_itemsets = apriori(df_encoded, min_support=min_support, use_colnames=True)\n"
      ],
      "metadata": {
        "colab": {
          "base_uri": "https://localhost:8080/"
        },
        "id": "jnk1wMLTr4g6",
        "outputId": "64fbb4b1-5430-4400-f790-ef5ce1ecbb5d"
      },
      "execution_count": 6,
      "outputs": [
        {
          "output_type": "stream",
          "name": "stderr",
          "text": [
            "/usr/local/lib/python3.11/dist-packages/ipykernel/ipkernel.py:283: DeprecationWarning: `should_run_async` will not call `transform_cell` automatically in the future. Please pass the result to `transformed_cell` argument and any exception that happen during thetransform in `preprocessing_exc_tuple` in IPython 7.17 and above.\n",
            "  and should_run_async(code)\n"
          ]
        }
      ]
    },
    {
      "cell_type": "code",
      "source": [
        "# Generate association rules\n",
        "rules = association_rules(frequent_itemsets, metric=\"confidence\", min_threshold=0.2)\n",
        "\n"
      ],
      "metadata": {
        "colab": {
          "base_uri": "https://localhost:8080/"
        },
        "id": "V_W6I0q6sOMl",
        "outputId": "cbd25746-8af0-4ba6-e4db-0af3d973c97f"
      },
      "execution_count": 7,
      "outputs": [
        {
          "output_type": "stream",
          "name": "stderr",
          "text": [
            "/usr/local/lib/python3.11/dist-packages/ipykernel/ipkernel.py:283: DeprecationWarning: `should_run_async` will not call `transform_cell` automatically in the future. Please pass the result to `transformed_cell` argument and any exception that happen during thetransform in `preprocessing_exc_tuple` in IPython 7.17 and above.\n",
            "  and should_run_async(code)\n"
          ]
        }
      ]
    },
    {
      "cell_type": "code",
      "source": [
        "# Display top association rules\n",
        "print(\"Top Association Rules:\")\n",
        "print(rules.sort_values(by=\"lift\", ascending=False).head(10))"
      ],
      "metadata": {
        "colab": {
          "base_uri": "https://localhost:8080/"
        },
        "id": "O3SovzRwsPJn",
        "outputId": "dcd58a26-e838-4b7f-92aa-1c52f0207d68"
      },
      "execution_count": 8,
      "outputs": [
        {
          "output_type": "stream",
          "name": "stdout",
          "text": [
            "Top Association Rules:\n",
            "                                        antecedents  \\\n",
            "5814        (other vegetables, sausage, whole milk)   \n",
            "5816         (other vegetables, rolls/buns, yogurt)   \n",
            "4902                                 (curd, yogurt)   \n",
            "5819              (sausage, whole milk, rolls/buns)   \n",
            "5820               (rolls/buns, whole milk, yogurt)   \n",
            "2643                             (whole milk, meat)   \n",
            "5815        (other vegetables, sausage, rolls/buns)   \n",
            "5775                   (whipped/sour cream, yogurt)   \n",
            "5193                           (sausage, pip fruit)   \n",
            "5827  (shopping bags, other vegetables, whole milk)   \n",
            "\n",
            "                      consequents  antecedent support  consequent support  \\\n",
            "5814         (rolls/buns, yogurt)            0.050282            0.111339   \n",
            "5816        (sausage, whole milk)            0.052335            0.106978   \n",
            "4902        (sausage, whole milk)            0.040277            0.106978   \n",
            "5819   (other vegetables, yogurt)            0.048743            0.120318   \n",
            "5820  (other vegetables, sausage)            0.065931            0.092868   \n",
            "2643              (domestic eggs)            0.034890            0.133145   \n",
            "5815         (whole milk, yogurt)            0.041816            0.150590   \n",
            "5775        (sausage, whole milk)            0.047973            0.106978   \n",
            "5193   (other vegetables, yogurt)            0.042073            0.120318   \n",
            "5827         (rolls/buns, yogurt)            0.042842            0.111339   \n",
            "\n",
            "       support  confidence      lift  representativity  leverage  conviction  \\\n",
            "5814  0.013597    0.270408  2.428689               1.0  0.007998    1.218025   \n",
            "5816  0.013597    0.259804  2.428575               1.0  0.007998    1.206467   \n",
            "4902  0.010005    0.248408  2.322046               1.0  0.005696    1.188173   \n",
            "5819  0.013597    0.278947  2.318415               1.0  0.007732    1.219997   \n",
            "5820  0.013597    0.206226  2.220629               1.0  0.007474    1.142808   \n",
            "2643  0.010262    0.294118  2.208999               1.0  0.005616    1.228044   \n",
            "5815  0.013597    0.325153  2.159196               1.0  0.007300    1.258671   \n",
            "5775  0.011031    0.229947  2.149476               1.0  0.005899    1.159688   \n",
            "5193  0.010775    0.256098  2.128504               1.0  0.005713    1.182523   \n",
            "5827  0.010005    0.233533  2.097492               1.0  0.005235    1.159425   \n",
            "\n",
            "      zhangs_metric   jaccard  certainty  kulczynski  \n",
            "5814       0.619400  0.091854   0.178999    0.196264  \n",
            "5816       0.620721  0.093310   0.171133    0.193451  \n",
            "4902       0.593239  0.072897   0.158372    0.170966  \n",
            "5819       0.597810  0.087459   0.180326    0.195977  \n",
            "5820       0.588476  0.093640   0.124963    0.176317  \n",
            "2643       0.567092  0.065041   0.185697    0.185594  \n",
            "5815       0.560294  0.076040   0.205511    0.207721  \n",
            "5775       0.561718  0.076649   0.137699    0.166532  \n",
            "5193       0.553473  0.071066   0.154351    0.172825  \n",
            "5827       0.546660  0.069395   0.137503    0.161697  \n"
          ]
        },
        {
          "output_type": "stream",
          "name": "stderr",
          "text": [
            "/usr/local/lib/python3.11/dist-packages/ipykernel/ipkernel.py:283: DeprecationWarning: `should_run_async` will not call `transform_cell` automatically in the future. Please pass the result to `transformed_cell` argument and any exception that happen during thetransform in `preprocessing_exc_tuple` in IPython 7.17 and above.\n",
            "  and should_run_async(code)\n"
          ]
        }
      ]
    }
  ]
}